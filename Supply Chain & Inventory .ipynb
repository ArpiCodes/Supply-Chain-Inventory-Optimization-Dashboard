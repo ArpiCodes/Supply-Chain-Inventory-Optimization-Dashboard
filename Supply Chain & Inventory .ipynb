{
 "cells": [
  {
   "cell_type": "code",
   "execution_count": 2,
   "id": "7e703de6-536e-4ac3-bc15-df8aaaf6ee48",
   "metadata": {},
   "outputs": [
    {
     "name": "stdout",
     "output_type": "stream",
     "text": [
      "Requirement already satisfied: faker in c:\\users\\jena0\\anaconda3\\lib\\site-packages (35.2.0)\n",
      "Requirement already satisfied: python-dateutil>=2.4 in c:\\users\\jena0\\anaconda3\\lib\\site-packages (from faker) (2.9.0.post0)\n",
      "Requirement already satisfied: typing-extensions in c:\\users\\jena0\\anaconda3\\lib\\site-packages (from faker) (4.11.0)\n",
      "Requirement already satisfied: six>=1.5 in c:\\users\\jena0\\anaconda3\\lib\\site-packages (from python-dateutil>=2.4->faker) (1.16.0)\n",
      "Note: you may need to restart the kernel to use updated packages.\n"
     ]
    }
   ],
   "source": [
    "pip install faker"
   ]
  },
  {
   "cell_type": "code",
   "execution_count": 7,
   "id": "9860fc32-3ed1-4af0-9b38-8c0956578adb",
   "metadata": {},
   "outputs": [
    {
     "name": "stdout",
     "output_type": "stream",
     "text": [
      "✅ Files saved successfully in the 'data' directory.\n"
     ]
    }
   ],
   "source": [
    "import os\n",
    "import pandas as pd\n",
    "import numpy as np\n",
    "from faker import Faker\n",
    "\n",
    "# Initializing Faker\n",
    "fake = Faker()\n",
    "\n",
    "# Setting random seed for reproducibility\n",
    "np.random.seed(42)\n",
    "\n",
    "# ---------------------- Generating Inventory Logs Data ---------------------- #\n",
    "num_products = 100\n",
    "inventory_logs = pd.DataFrame({\n",
    "    \"Product_ID\": [f\"P{str(i).zfill(3)}\" for i in range(1, num_products + 1)],\n",
    "    \"Product_Name\": [fake.word().capitalize() for _ in range(num_products)],\n",
    "    \"Category\": np.random.choice([\"Electronics\", \"Furniture\", \"Clothing\", \"Food\", \"Pharmaceuticals\"], num_products),\n",
    "    \"Stock_Level\": np.random.randint(10, 500, num_products),\n",
    "    \"Reorder_Point\": np.random.randint(5, 100, num_products),\n",
    "    \"Inventory_Turnover\": np.round(np.random.uniform(1, 10, num_products), 2),\n",
    "    # Adding Date column (random dates for 2023)\n",
    "    \"Date\": [fake.date_this_year() for _ in range(num_products)],\n",
    "    # Adding Cost_Per_Unit column (random prices between 10 to 100)\n",
    "    \"Cost_Per_Unit\": np.round(np.random.uniform(10, 100, num_products), 2)\n",
    "})\n",
    "\n",
    "# ---------------------- Generating Supplier Data ---------------------- #\n",
    "num_suppliers = 20\n",
    "supplier_data = pd.DataFrame({\n",
    "    \"Supplier_ID\": [f\"S{str(i).zfill(3)}\" for i in range(1, num_suppliers + 1)],\n",
    "    \"Supplier_Name\": [fake.company() for _ in range(num_suppliers)],\n",
    "    \"Lead_Time_Days\": np.random.randint(3, 30, num_suppliers),\n",
    "    \"Delivery_Accuracy\": np.round(np.random.uniform(85, 100, num_suppliers), 2),\n",
    "    \"Supplier_Rating\": np.round(np.random.uniform(2.5, 5, num_suppliers), 2)\n",
    "})\n",
    "\n",
    "# ---------------------- Generating Shipping & Logistics Data ---------------------- #\n",
    "num_shipments = 200\n",
    "shipping_data = pd.DataFrame({\n",
    "    \"Shipment_ID\": [f\"SH{str(i).zfill(4)}\" for i in range(1, num_shipments + 1)],\n",
    "    \"Origin\": [fake.city() for _ in range(num_shipments)],\n",
    "    \"Destination\": [fake.city() for _ in range(num_shipments)],\n",
    "    \"Shipping_Cost\": np.round(np.random.uniform(50, 500, num_shipments), 2),\n",
    "    \"Delivery_Time_Days\": np.random.randint(1, 15, num_shipments),\n",
    "    \"Delay_Flag\": np.random.choice([\"Yes\", \"No\"], num_shipments, p=[0.2, 0.8])\n",
    "})\n",
    "\n",
    "# ---------------------- Generating Warehouse Data ---------------------- #\n",
    "num_warehouses = 10\n",
    "warehouse_data = pd.DataFrame({\n",
    "    \"Warehouse_ID\": [f\"W{str(i).zfill(2)}\" for i in range(1, num_warehouses + 1)],\n",
    "    \"Warehouse_Location\": [fake.city() for _ in range(num_warehouses)],\n",
    "    \"Latitude\": np.round(np.random.uniform(-90, 90, num_warehouses), 6),\n",
    "    \"Longitude\": np.round(np.random.uniform(-180, 180, num_warehouses), 6),\n",
    "    \"Storage_Capacity\": np.random.randint(1000, 10000, num_warehouses),\n",
    "    \"Current_Utilization\": np.random.randint(500, 9500, num_warehouses)\n",
    "})\n",
    "\n",
    "# ---------------------- Saving Data to CSV Files ---------------------- #\n",
    "# Define directory\n",
    "save_dir = \"data\"\n",
    "\n",
    "# Creating directory if it does not exist\n",
    "os.makedirs(save_dir, exist_ok=True)\n",
    "\n",
    "# Saving datasets as CSV files\n",
    "inventory_logs.to_csv(f\"{save_dir}/inventory_logs.csv\", index=False)\n",
    "supplier_data.to_csv(f\"{save_dir}/supplier_data.csv\", index=False)\n",
    "shipping_data.to_csv(f\"{save_dir}/shipping_data.csv\", index=False)\n",
    "warehouse_data.to_csv(f\"{save_dir}/warehouse_data.csv\", index=False)\n",
    "\n",
    "print(\"✅ Files saved successfully in the 'data' directory.\")\n"
   ]
  },
  {
   "cell_type": "code",
   "execution_count": null,
   "id": "f136f8bc-7ad9-471d-b1e4-675893381e83",
   "metadata": {},
   "outputs": [],
   "source": []
  }
 ],
 "metadata": {
  "kernelspec": {
   "display_name": "Python 3 (ipykernel)",
   "language": "python",
   "name": "python3"
  },
  "language_info": {
   "codemirror_mode": {
    "name": "ipython",
    "version": 3
   },
   "file_extension": ".py",
   "mimetype": "text/x-python",
   "name": "python",
   "nbconvert_exporter": "python",
   "pygments_lexer": "ipython3",
   "version": "3.12.7"
  }
 },
 "nbformat": 4,
 "nbformat_minor": 5
}
